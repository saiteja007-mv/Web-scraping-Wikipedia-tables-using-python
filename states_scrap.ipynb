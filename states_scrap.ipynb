{
 "cells": [
  {
   "cell_type": "code",
   "execution_count": 261,
   "id": "46ac0569",
   "metadata": {},
   "outputs": [],
   "source": [
    "from bs4 import BeautifulSoup\n",
    "\n",
    "import pandas as pd\n",
    "import re\n",
    "import requests"
   ]
  },
  {
   "cell_type": "code",
   "execution_count": 262,
   "id": "5ec9d37f",
   "metadata": {},
   "outputs": [
    {
     "name": "stdout",
     "output_type": "stream",
     "text": [
      "Number of Rows = 1\n"
     ]
    }
   ],
   "source": [
    "wiki = 'https://en.wikipedia.org/wiki/List_of_districts_of_Puducherry'\n",
    "proxies = {}\n",
    "response = requests.get(wiki,proxies=proxies)\n",
    "page_html = response.text\n",
    "page_soup = BeautifulSoup(page_html,\"html.parser\")\n",
    "tables = page_soup.findAll(\"table\", { \"class\" : \"wikitable sortable\" })\n",
    "print(\"Number of Rows = \" +str(len(tables)))\n",
    "table_1 = tables[0]\n",
    "rows=table_1.findAll(\"tr\")\n",
    "row_lengths=[len(r.findAll(['th','td'])) for r in rows]\n",
    "ncols=max(row_lengths)\n",
    "nrows=len(rows)\n",
    "\n",
    "data=[]\n",
    "for i in range(nrows):\n",
    "    rowD=[]\n",
    "    for j in range(ncols):\n",
    "        rowD.append('')\n",
    "    data.append(rowD)"
   ]
  },
  {
   "cell_type": "code",
   "execution_count": 263,
   "id": "70c90893",
   "metadata": {},
   "outputs": [
    {
     "name": "stdout",
     "output_type": "stream",
     "text": [
      "5\n",
      "7\n"
     ]
    }
   ],
   "source": [
    "print(len(data))\n",
    "print (len(data[0]))\n",
    "\n",
    "for i in range(len(rows)):\n",
    "    row=rows[i]\n",
    "    cells = row.findAll([\"td\",\"th\"])\n",
    "    for j in range(len(cells)):\n",
    "        cell=cells[j]\n",
    "        data[i][j]+=cell.text.replace('\\n',' ').replace('/','')\n",
    "        "
   ]
  },
  {
   "cell_type": "code",
   "execution_count": 264,
   "id": "95169b3d",
   "metadata": {},
   "outputs": [
    {
     "data": {
      "text/plain": [
       "[['ISO 3166-2 Code[1] ',\n",
       "  'District ',\n",
       "  'Headquarters ',\n",
       "  'Population (2011)[2] ',\n",
       "  'Area (km²) ',\n",
       "  'Density (km²)[2] ',\n",
       "  'Official website '],\n",
       " ['IN-PY-KA',\n",
       "  'Karaikal district',\n",
       "  'Karaikal',\n",
       "  ' 200,222',\n",
       "  '160',\n",
       "  ' 1,252',\n",
       "  'http:karaikal.gov.in '],\n",
       " ['IN-PY-MA',\n",
       "  'Mahé district',\n",
       "  'Mahé',\n",
       "  ' 41,934',\n",
       "  ' 9',\n",
       "  ' 4,659',\n",
       "  'http:mahe.gov.in '],\n",
       " ['IN-PY-PO',\n",
       "  'Puducherry district',\n",
       "  'Pondicherry',\n",
       "  ' 946,600',\n",
       "  ' 293',\n",
       "  ' 3,231',\n",
       "  'http:py.gov.in '],\n",
       " ['IN-PY-YA',\n",
       "  'Yanam district',\n",
       "  'Yanam',\n",
       "  ' 55,616',\n",
       "  '30',\n",
       "  ' 3,272',\n",
       "  'http:yanam.gov.in ']]"
      ]
     },
     "execution_count": 264,
     "metadata": {},
     "output_type": "execute_result"
    }
   ],
   "source": [
    "data"
   ]
  },
  {
   "cell_type": "code",
   "execution_count": 265,
   "id": "50a02d0b",
   "metadata": {},
   "outputs": [],
   "source": [
    "data_cols = data[0]\n",
    "data = data[1:]"
   ]
  },
  {
   "cell_type": "code",
   "execution_count": 266,
   "id": "8316e4f0",
   "metadata": {},
   "outputs": [
    {
     "data": {
      "text/html": [
       "<div>\n",
       "<style scoped>\n",
       "    .dataframe tbody tr th:only-of-type {\n",
       "        vertical-align: middle;\n",
       "    }\n",
       "\n",
       "    .dataframe tbody tr th {\n",
       "        vertical-align: top;\n",
       "    }\n",
       "\n",
       "    .dataframe thead th {\n",
       "        text-align: right;\n",
       "    }\n",
       "</style>\n",
       "<table border=\"1\" class=\"dataframe\">\n",
       "  <thead>\n",
       "    <tr style=\"text-align: right;\">\n",
       "      <th></th>\n",
       "      <th>ISO 3166-2 Code[1]</th>\n",
       "      <th>District</th>\n",
       "      <th>Headquarters</th>\n",
       "      <th>Population (2011)[2]</th>\n",
       "      <th>Area (km²)</th>\n",
       "      <th>Density (km²)[2]</th>\n",
       "      <th>Official website</th>\n",
       "    </tr>\n",
       "  </thead>\n",
       "  <tbody>\n",
       "    <tr>\n",
       "      <th>0</th>\n",
       "      <td>IN-PY-KA</td>\n",
       "      <td>Karaikal district</td>\n",
       "      <td>Karaikal</td>\n",
       "      <td>200,222</td>\n",
       "      <td>160</td>\n",
       "      <td>1,252</td>\n",
       "      <td>http:karaikal.gov.in</td>\n",
       "    </tr>\n",
       "    <tr>\n",
       "      <th>1</th>\n",
       "      <td>IN-PY-MA</td>\n",
       "      <td>Mahé district</td>\n",
       "      <td>Mahé</td>\n",
       "      <td>41,934</td>\n",
       "      <td>9</td>\n",
       "      <td>4,659</td>\n",
       "      <td>http:mahe.gov.in</td>\n",
       "    </tr>\n",
       "    <tr>\n",
       "      <th>2</th>\n",
       "      <td>IN-PY-PO</td>\n",
       "      <td>Puducherry district</td>\n",
       "      <td>Pondicherry</td>\n",
       "      <td>946,600</td>\n",
       "      <td>293</td>\n",
       "      <td>3,231</td>\n",
       "      <td>http:py.gov.in</td>\n",
       "    </tr>\n",
       "    <tr>\n",
       "      <th>3</th>\n",
       "      <td>IN-PY-YA</td>\n",
       "      <td>Yanam district</td>\n",
       "      <td>Yanam</td>\n",
       "      <td>55,616</td>\n",
       "      <td>30</td>\n",
       "      <td>3,272</td>\n",
       "      <td>http:yanam.gov.in</td>\n",
       "    </tr>\n",
       "  </tbody>\n",
       "</table>\n",
       "</div>"
      ],
      "text/plain": [
       "  ISO 3166-2 Code[1]             District  Headquarters   \\\n",
       "0            IN-PY-KA    Karaikal district      Karaikal   \n",
       "1            IN-PY-MA        Mahé district          Mahé   \n",
       "2            IN-PY-PO  Puducherry district   Pondicherry   \n",
       "3            IN-PY-YA       Yanam district         Yanam   \n",
       "\n",
       "  Population (2011)[2]  Area (km²)  Density (km²)[2]       Official website   \n",
       "0               200,222         160             1,252  http:karaikal.gov.in   \n",
       "1                41,934           9             4,659      http:mahe.gov.in   \n",
       "2               946,600         293             3,231        http:py.gov.in   \n",
       "3                55,616          30             3,272     http:yanam.gov.in   "
      ]
     },
     "execution_count": 266,
     "metadata": {},
     "output_type": "execute_result"
    }
   ],
   "source": [
    "df = pd.DataFrame(data, columns=data_cols)\n",
    "df"
   ]
  },
  {
   "cell_type": "code",
   "execution_count": 267,
   "id": "1be4dc6d",
   "metadata": {},
   "outputs": [],
   "source": [
    "df.to_csv('Puducherry.csv')"
   ]
  },
  {
   "cell_type": "code",
   "execution_count": null,
   "id": "ef5ccad0",
   "metadata": {},
   "outputs": [],
   "source": []
  }
 ],
 "metadata": {
  "kernelspec": {
   "display_name": "Python 3 (ipykernel)",
   "language": "python",
   "name": "python3"
  },
  "language_info": {
   "codemirror_mode": {
    "name": "ipython",
    "version": 3
   },
   "file_extension": ".py",
   "mimetype": "text/x-python",
   "name": "python",
   "nbconvert_exporter": "python",
   "pygments_lexer": "ipython3",
   "version": "3.9.13"
  }
 },
 "nbformat": 4,
 "nbformat_minor": 5
}
